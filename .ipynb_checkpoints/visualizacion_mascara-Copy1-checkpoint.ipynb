{
 "cells": [
  {
   "cell_type": "markdown",
   "id": "7201e281",
   "metadata": {},
   "source": [
    "![](imagenes/UC_FMRI.jpg)"
   ]
  },
  {
   "cell_type": "markdown",
   "id": "73591a27",
   "metadata": {},
   "source": [
    "---\n",
    "\n",
    "***Andres Eduardo Aracena Rangel***\n",
    "\n",
    "---\n",
    "\n",
    "Previamente se ejecuto el comando ***reconall*** de freesurfer a la imagen anatomica, con el notebook ***recon-all.ipynb***. Los resultados se guardan en la carpeta freesurfer, obteniendo las siguientes carpetas para cada sujeto:"
   ]
  },
  {
   "cell_type": "code",
   "execution_count": 2,
   "id": "62915760",
   "metadata": {},
   "outputs": [
    {
     "name": "stdout",
     "output_type": "stream",
     "text": [
      "\u001b[0m\u001b[01;34mlabel\u001b[0m/  \u001b[01;34mmri\u001b[0m/  \u001b[01;34mscripts\u001b[0m/  \u001b[01;34mstats\u001b[0m/  \u001b[01;34msurf\u001b[0m/  \u001b[01;34mtmp\u001b[0m/  \u001b[01;34mtouch\u001b[0m/  \u001b[01;34mtrash\u001b[0m/\r\n"
     ]
    }
   ],
   "source": [
    "%ls /home/aracena/thesis_practica/tips_nibabel/3_recon-all_freesurfer/output/freesurfer/sub-01/"
   ]
  },
  {
   "cell_type": "markdown",
   "id": "f7806ed3",
   "metadata": {},
   "source": [
    "Siendo la carpeta ***mri*** de nuestro interes, el cual contiene los siguientes archivos:"
   ]
  },
  {
   "cell_type": "code",
   "execution_count": 3,
   "id": "57190735",
   "metadata": {
    "scrolled": true
   },
   "outputs": [
    {
     "name": "stdout",
     "output_type": "stream",
     "text": [
      "antsdn.brain.mgz                         norm.mgz\r\n",
      "aparc.a2009s+aseg.mgz                    nu.mgz\r\n",
      "aparc+aseg.mgz                           \u001b[0m\u001b[01;34morig\u001b[0m/\r\n",
      "aparc.DKTatlas+aseg.mgz                  orig.mgz\r\n",
      "aseg.auto.mgz                            orig_nu.mgz\r\n",
      "aseg.auto_noCCseg.label_intensities.txt  rawavg.mgz\r\n",
      "aseg.auto_noCCseg.mgz                    rh.ribbon.mgz\r\n",
      "aseg.mgz                                 ribbon.mgz\r\n",
      "aseg.presurf.hypos.mgz                   segment.dat\r\n",
      "aseg.presurf.mgz                         surface.defects.mgz\r\n",
      "brain.finalsurfs.mgz                     T1.mgz\r\n",
      "brainmask.auto.mgz                       talairach.label_intensities.txt\r\n",
      "brainmask.mgz                            talairach.log\r\n",
      "brain.mgz                                talairach_with_skull.log\r\n",
      "ctrl_pts.mgz                             \u001b[01;34mtransforms\u001b[0m/\r\n",
      "filled.auto.mgz                          wm.asegedit.mgz\r\n",
      "filled.mgz                               wm.mgz\r\n",
      "lh.ribbon.mgz                            wmparc.mgz\r\n",
      "mri_nu_correct.mni.log                   wm.seg.mgz\r\n",
      "mri_nu_correct.mni.log.bak\r\n"
     ]
    }
   ],
   "source": [
    "%ls /home/aracena/thesis_practica/tips_nibabel/3_recon-all_freesurfer/output/freesurfer/sub-01/mri/"
   ]
  },
  {
   "cell_type": "markdown",
   "id": "466c03e7",
   "metadata": {},
   "source": [
    "&nbsp;\n",
    "# Visualización de mascaras Materia Blanca con *nibabel*"
   ]
  },
  {
   "cell_type": "markdown",
   "id": "4768d6a5",
   "metadata": {},
   "source": [
    "Acronimos\n",
    "\n",
    "- wm = white matter (materia blanca)\n",
    "\n",
    "- csf = cerebrospinal fluid (liquido cefalorraquídeo)"
   ]
  },
  {
   "cell_type": "markdown",
   "id": "8baaf9f3",
   "metadata": {},
   "source": [
    "## Importamos librerias"
   ]
  },
  {
   "cell_type": "code",
   "execution_count": 4,
   "id": "35167123",
   "metadata": {},
   "outputs": [],
   "source": [
    "import time # medir el tiempo de ejecución de nuestros programas\n",
    "start = time.process_time()\n",
    "inicio = time.time()"
   ]
  },
  {
   "cell_type": "code",
   "execution_count": 5,
   "id": "0a5763d1",
   "metadata": {},
   "outputs": [],
   "source": [
    "import os # El módulo os nos permite acceder a funcionalidades dependientes del Sistema Operativo\n",
    "from os.path import join as opj # Este método concatena varios componentes de ruta con exactamente un separador de directorio(‘/’)\n",
    "from matplotlib.figure import Figure\n",
    "import nibabel as nib\n",
    "import numpy as np\n",
    "import matplotlib.pyplot as plt\n",
    "import scipy.ndimage as ndimage #para rotar img"
   ]
  },
  {
   "cell_type": "markdown",
   "id": "d2e76bc8",
   "metadata": {},
   "source": [
    "## Definimos Funciones"
   ]
  },
  {
   "cell_type": "code",
   "execution_count": 6,
   "id": "c04bebda",
   "metadata": {},
   "outputs": [],
   "source": [
    "# Creamos una funcion para ingresar el corte/slice que se desea extraer\n",
    "# Verificamos que el usuario ingrese un numero natural y que se encuentre entre los \n",
    "    # cortes de la imagen cargada\n",
    "    \n",
    "def ingresar_corte(name, v_ini, v_fin):\n",
    "    while True:\n",
    "        print('\\n------------------------------------------\\n')\n",
    "        print('La imagen', name, 'posee', vol_fin, 'cortes/slices', '\\n',\n",
    "             'ingrese un valor entre 0 y', vol_fin)\n",
    "        print('\\n------------------------------------------')\n",
    "        co_vo =  input('\\n Ingrese el corte/slice que desea visualizar: ')\n",
    "        ver_num = co_vo.isnumeric()\n",
    "        if ver_num == True: \n",
    "            co_vo = int(co_vo) # covertimos a int para poder usar en sentencias\n",
    "            if v_ini <= co_vo <= v_fin: # que se encuentre los volumenes\n",
    "                print('\\n------------------------------------------\\n')\n",
    "                print('El corte/slice', co_vo, 'sera visualizado')\n",
    "                print('\\n------------------------------------------')\n",
    "                return co_vo\n",
    "                break\n",
    "            else:\n",
    "                print('\\nERROR. Se debe ingresar un numero natural y',\n",
    "                          '\\n entre la cantidad de cortes/slices')\n",
    "        else:\n",
    "            print('\\nERROR. Se debe ingresar un numero natural y',\n",
    "                          '\\n entre la cantidad de cortes/slices')"
   ]
  },
  {
   "cell_type": "markdown",
   "id": "ff481960",
   "metadata": {},
   "source": [
    "## Definimos Parámetros"
   ]
  },
  {
   "cell_type": "code",
   "execution_count": 7,
   "id": "f7c0e8ea",
   "metadata": {},
   "outputs": [
    {
     "data": {
      "text/plain": [
       "0"
      ]
     },
     "execution_count": 7,
     "metadata": {},
     "output_type": "execute_result"
    }
   ],
   "source": [
    "# Ruta del directorio del proyecto\n",
    "experiment_dir = '/home/aracena/thesis_practica/tips_nibabel/' \n",
    "\n",
    "# Ruta de resultados de recon-all de freesurfer con segmentaciones\n",
    "freesurfer_dir = opj(experiment_dir,'3_recon-all_freesurfer','output','freesurfer','sub-01','mri')\n",
    "\n",
    "'''\n",
    "Ruta de la imagen segmentada de la materia blanca + liquido cefalorraquídeo\n",
    "'''\n",
    "path_wm_csf = opj(freesurfer_dir,'wm.mgz')\n",
    "\n",
    "'''\n",
    "Ruta de la imagen segmentada solo materia blanca\n",
    "'''\n",
    "path_wm = opj(freesurfer_dir,'wm.seg.mgz')\n",
    "\n",
    "'''\n",
    "Ruta donde se guardaran los resultados\n",
    "'''\n",
    "output_dir = opj(experiment_dir,'4_visualizacion_mascara','output')\n",
    "\n",
    "# Crear la carpeta de salida\n",
    "os.system('mkdir -p %s'%output_dir)"
   ]
  },
  {
   "cell_type": "markdown",
   "id": "9e5fe94f",
   "metadata": {},
   "source": [
    "## Cargamos las imagenes y creamos los objetos mask_X"
   ]
  },
  {
   "cell_type": "code",
   "execution_count": 8,
   "id": "2cc2be54",
   "metadata": {},
   "outputs": [
    {
     "name": "stdout",
     "output_type": "stream",
     "text": [
      "Forma de la matriz mask_wm_csf: \n",
      " (256, 256, 256) ------> 3D \n",
      "\n",
      "Forma de la matriz mask_wm: \n",
      " (256, 256, 256) ------> 3D \n",
      "\n"
     ]
    }
   ],
   "source": [
    "mask_wm_csf = nib.load(path_wm_csf)\n",
    "\n",
    "mask_wm = nib.load(path_wm)\n",
    "\n",
    "\n",
    "'''\n",
    "Atributos\n",
    "'''\n",
    "\n",
    "# Forma de la Matriz\n",
    "form_mask_wm_csf = mask_wm_csf.shape # Atributo --> Forma Matriz\n",
    "print('Forma de la matriz mask_wm_csf:', '\\n', form_mask_wm_csf, '------>', '3D', '\\n')\n",
    "\n",
    "form_mask_wm = mask_wm.shape # Atributo --> Forma Matriz\n",
    "print('Forma de la matriz mask_wm:', '\\n', form_mask_wm, '------>', '3D', '\\n')\n",
    "\n"
   ]
  },
  {
   "cell_type": "markdown",
   "id": "14d9b26e",
   "metadata": {},
   "source": [
    "## Cargamos datos de las imagenes"
   ]
  },
  {
   "cell_type": "code",
   "execution_count": 9,
   "id": "15ffa675",
   "metadata": {},
   "outputs": [
    {
     "name": "stdout",
     "output_type": "stream",
     "text": [
      "Numero de elementos de la mask_wm_csf: \n",
      " 16777216 \n",
      "\n",
      "Numero de elementos de la mask_wm: \n",
      " 16777216 \n",
      "\n"
     ]
    }
   ],
   "source": [
    "datos_mask_wm_csf = mask_wm_csf.get_fdata()\n",
    "datos_mask_wm = mask_wm.get_fdata()\n",
    "\n",
    "\n",
    "# Numero de elementos\n",
    "cant_wm_csf = datos_mask_wm_csf.size # Atributo np --> Numero de elementos Matriz\n",
    "print('Numero de elementos de la mask_wm_csf:', '\\n', cant_wm_csf, '\\n')\n",
    "\n",
    "cant_wm = datos_mask_wm.size # Atributo np --> Numero de elementos Matriz\n",
    "print('Numero de elementos de la mask_wm:', '\\n', cant_wm, '\\n')\n",
    "\n"
   ]
  },
  {
   "cell_type": "markdown",
   "id": "ac05d2b5",
   "metadata": {},
   "source": [
    "## Seleccionar un corte"
   ]
  },
  {
   "cell_type": "code",
   "execution_count": 15,
   "id": "78fe5af9",
   "metadata": {
    "scrolled": false
   },
   "outputs": [
    {
     "name": "stdout",
     "output_type": "stream",
     "text": [
      "\n",
      "------------------------------------------\n",
      "\n",
      "La imagen mask_wm_csf (y mask_wm) posee 256 cortes/slices \n",
      " ingrese un valor entre 0 y 256\n",
      "\n",
      "------------------------------------------\n",
      "\n",
      " Ingrese el corte/slice que desea visualizar: 115\n",
      "\n",
      "------------------------------------------\n",
      "\n",
      "El corte/slice 115 sera visualizado\n",
      "\n",
      "------------------------------------------\n"
     ]
    }
   ],
   "source": [
    "# Le indicamos al usuario que ingrese el corte/slice que desea extraer del\n",
    "# volumen seleccionado\n",
    "\n",
    "# Definimos los inputs de la funcion 'ingresar_corte'\n",
    "name = 'mask_wm_csf (y mask_wm)'\n",
    "vol_in = 0 # volumen inicial --> v_ini\n",
    "vol_fin = form_mask_wm_csf[2] # volumen final --> v_fin\n",
    "\n",
    "# Usamos funcion\n",
    "cor_sel = ingresar_corte(name,vol_in,vol_fin)"
   ]
  },
  {
   "cell_type": "code",
   "execution_count": 17,
   "id": "9a195971",
   "metadata": {},
   "outputs": [],
   "source": [
    "# Usamos el atributo slices para seleccionar el corte en el volumen de las imagenes de las mascaras\n",
    "\n",
    "'''\n",
    "corte coronal\n",
    "'''\n",
    "\n",
    "if cor_sel == 0:\n",
    "    cor_sel = -(vol_fin-1)\n",
    "    coro_wm_csf = mask_wm_csf.slicer[..., 0:cor_sel]\n",
    "    coro_wm = mask_wm.slicer[..., 0:cor_sel]    \n",
    "elif cor_sel == 256:\n",
    "    coro_wm_csf = mask_wm_csf.slicer[..., vol_fin-1:vol_fin]\n",
    "    coro_wm = mask_wm.slicer[..., vol_fin-1:vol_fin]    \n",
    "else:\n",
    "    coro_wm_csf = mask_wm_csf.slicer[..., cor_sel:cor_sel+1]\n",
    "    coro_wm = mask_wm.slicer[..., cor_sel:cor_sel+1]"
   ]
  },
  {
   "cell_type": "markdown",
   "id": "8705a9cb",
   "metadata": {},
   "source": [
    "## Visualizar el corte seleccionado"
   ]
  },
  {
   "cell_type": "code",
   "execution_count": 23,
   "id": "77635b65",
   "metadata": {},
   "outputs": [
    {
     "data": {
      "image/png": "[encoded data removed]",
      "text/plain": [
       "<Figure size 1080x1080 with 6 Axes>"
      ]
     },
     "metadata": {},
     "output_type": "display_data"
    }
   ],
   "source": [
    "cor_vol = 115\n",
    "\n",
    "'''\n",
    "corte coronal\n",
    "'''\n",
    "coro_wm_csf = datos_mask_wm_csf[:, :,cor_vol]\n",
    "coro_wm = datos_mask_wm[ :, : ,cor_vol]\n",
    "\n",
    "#rotada\n",
    "coro_wm_csf_r = ndimage.rotate(coro_wm_csf, -90, reshape=True)\n",
    "coro_wm_r = ndimage.rotate(coro_wm, -90, reshape=True)\n",
    "\n",
    "'''\n",
    "corte sagital\n",
    "'''\n",
    "sagi_wm_csf = datos_mask_wm_csf[cor_vol,:, :]\n",
    "sagi_wm = datos_mask_wm[ cor_vol,:, :]\n",
    "\n",
    "#rotada\n",
    "sagi_wm_csf_r = ndimage.rotate(sagi_wm_csf, 0, reshape=True)\n",
    "sagi_wm_r = ndimage.rotate(sagi_wm, 0, reshape=True)\n",
    "\n",
    "'''\n",
    "corte transversal\n",
    "'''\n",
    "tran_wm_csf = datos_mask_wm_csf[:,cor_vol, :]\n",
    "tran_wm = datos_mask_wm[ :, cor_vol, :]\n",
    "\n",
    "#rotada\n",
    "tran_wm_csf_r = ndimage.rotate(tran_wm_csf, 90, reshape=True)\n",
    "tran_wm_r = ndimage.rotate(tran_wm, 90, reshape=True)\n",
    "\n",
    "\n",
    "\n",
    "\n",
    "'''\n",
    "Mostramos ambas imagenes\n",
    "'''\n",
    "\n",
    "fig = plt.figure(figsize=(15, 15))\n",
    "plt.subplot(3,2,1)\n",
    "plt.imshow(coro_wm_csf_r)\n",
    "plt.title('Mascara Materia blanca + Liquido Cefalorraquideo \\n\\n coronal')\n",
    "plt.axis('off')\n",
    "plt.subplot(3,2,2)\n",
    "plt.imshow(coro_wm_r)\n",
    "plt.title('Mascara Materia Blanca \\n\\n coronal')\n",
    "plt.axis('off')\n",
    "plt.subplot(3,2,3)\n",
    "plt.imshow(sagi_wm_csf_r)\n",
    "plt.title('Sagital')\n",
    "plt.axis('off')\n",
    "plt.subplot(3,2,4)\n",
    "plt.imshow(sagi_wm_r)\n",
    "plt.title('Sagital')\n",
    "plt.axis('off')\n",
    "plt.subplot(3,2,5)\n",
    "plt.imshow(tran_wm_csf_r)\n",
    "plt.title('Transversal')\n",
    "plt.axis('off')\n",
    "plt.subplot(3,2,6)\n",
    "plt.imshow(tran_wm_r)\n",
    "plt.title('Transversal')\n",
    "plt.axis('off')\n",
    "fig.patch.set_facecolor('xkcd:white')\n",
    "plt.show()\n"
   ]
  },
  {
   "cell_type": "code",
   "execution_count": 14,
   "id": "9563544d",
   "metadata": {},
   "outputs": [
    {
     "ename": "IndexError",
     "evalue": "Scalar indices disallowed in spatial dimensions; Use `[x]` or `x:x+1`.",
     "output_type": "error",
     "traceback": [
      "\u001b[0;31m---------------------------------------------------------------------------\u001b[0m",
      "\u001b[0;31mIndexError\u001b[0m                                Traceback (most recent call last)",
      "\u001b[0;32m/tmp/ipykernel_1268699/1769087307.py\u001b[0m in \u001b[0;36m<module>\u001b[0;34m\u001b[0m\n\u001b[1;32m      4\u001b[0m \u001b[0mcor_sel\u001b[0m \u001b[0;34m=\u001b[0m \u001b[0;36m50\u001b[0m\u001b[0;34m\u001b[0m\u001b[0;34m\u001b[0m\u001b[0m\n\u001b[1;32m      5\u001b[0m \u001b[0;34m\u001b[0m\u001b[0m\n\u001b[0;32m----> 6\u001b[0;31m \u001b[0mcor_wm_csf\u001b[0m \u001b[0;34m=\u001b[0m \u001b[0mmask_wm_csf\u001b[0m\u001b[0;34m.\u001b[0m\u001b[0mslicer\u001b[0m\u001b[0;34m[\u001b[0m\u001b[0;34m...\u001b[0m\u001b[0;34m,\u001b[0m \u001b[0mcor_sel\u001b[0m\u001b[0;34m]\u001b[0m\u001b[0;34m\u001b[0m\u001b[0;34m\u001b[0m\u001b[0m\n\u001b[0m\u001b[1;32m      7\u001b[0m \u001b[0mcor_wm\u001b[0m \u001b[0;34m=\u001b[0m \u001b[0mmask_wm\u001b[0m\u001b[0;34m.\u001b[0m\u001b[0mslicer\u001b[0m\u001b[0;34m[\u001b[0m\u001b[0;34m...\u001b[0m\u001b[0;34m,\u001b[0m \u001b[0mcor_sel\u001b[0m\u001b[0;34m:\u001b[0m\u001b[0mcor_sel\u001b[0m\u001b[0;34m+\u001b[0m\u001b[0;36m1\u001b[0m\u001b[0;34m]\u001b[0m\u001b[0;34m\u001b[0m\u001b[0;34m\u001b[0m\u001b[0m\n\u001b[1;32m      8\u001b[0m \u001b[0;34m\u001b[0m\u001b[0m\n",
      "\u001b[0;32m~/.local/lib/python3.9/site-packages/nibabel/spatialimages.py\u001b[0m in \u001b[0;36m__getitem__\u001b[0;34m(self, slicer)\u001b[0m\n\u001b[1;32m    339\u001b[0m     \u001b[0;32mdef\u001b[0m \u001b[0m__getitem__\u001b[0m\u001b[0;34m(\u001b[0m\u001b[0mself\u001b[0m\u001b[0;34m,\u001b[0m \u001b[0mslicer\u001b[0m\u001b[0;34m)\u001b[0m\u001b[0;34m:\u001b[0m\u001b[0;34m\u001b[0m\u001b[0;34m\u001b[0m\u001b[0m\n\u001b[1;32m    340\u001b[0m         \u001b[0;32mtry\u001b[0m\u001b[0;34m:\u001b[0m\u001b[0;34m\u001b[0m\u001b[0;34m\u001b[0m\u001b[0m\n\u001b[0;32m--> 341\u001b[0;31m             \u001b[0mslicer\u001b[0m \u001b[0;34m=\u001b[0m \u001b[0mself\u001b[0m\u001b[0;34m.\u001b[0m\u001b[0mcheck_slicing\u001b[0m\u001b[0;34m(\u001b[0m\u001b[0mslicer\u001b[0m\u001b[0;34m)\u001b[0m\u001b[0;34m\u001b[0m\u001b[0;34m\u001b[0m\u001b[0m\n\u001b[0m\u001b[1;32m    342\u001b[0m         \u001b[0;32mexcept\u001b[0m \u001b[0mValueError\u001b[0m \u001b[0;32mas\u001b[0m \u001b[0merr\u001b[0m\u001b[0;34m:\u001b[0m\u001b[0;34m\u001b[0m\u001b[0;34m\u001b[0m\u001b[0m\n\u001b[1;32m    343\u001b[0m             \u001b[0;32mraise\u001b[0m \u001b[0mIndexError\u001b[0m\u001b[0;34m(\u001b[0m\u001b[0;34m*\u001b[0m\u001b[0merr\u001b[0m\u001b[0;34m.\u001b[0m\u001b[0margs\u001b[0m\u001b[0;34m)\u001b[0m\u001b[0;34m\u001b[0m\u001b[0;34m\u001b[0m\u001b[0m\n",
      "\u001b[0;32m~/.local/lib/python3.9/site-packages/nibabel/spatialimages.py\u001b[0m in \u001b[0;36mcheck_slicing\u001b[0;34m(self, slicer, return_spatial)\u001b[0m\n\u001b[1;32m    376\u001b[0m                 \u001b[0;32mraise\u001b[0m \u001b[0mIndexError\u001b[0m\u001b[0;34m(\u001b[0m\u001b[0;34m\"New axis not permitted in spatial dimensions\"\u001b[0m\u001b[0;34m)\u001b[0m\u001b[0;34m\u001b[0m\u001b[0;34m\u001b[0m\u001b[0m\n\u001b[1;32m    377\u001b[0m             \u001b[0;32melif\u001b[0m \u001b[0misinstance\u001b[0m\u001b[0;34m(\u001b[0m\u001b[0msubslicer\u001b[0m\u001b[0;34m,\u001b[0m \u001b[0mint\u001b[0m\u001b[0;34m)\u001b[0m\u001b[0;34m:\u001b[0m\u001b[0;34m\u001b[0m\u001b[0;34m\u001b[0m\u001b[0m\n\u001b[0;32m--> 378\u001b[0;31m                 raise IndexError(\"Scalar indices disallowed in spatial dimensions; \"\n\u001b[0m\u001b[1;32m    379\u001b[0m                                  \"Use `[x]` or `x:x+1`.\")\n\u001b[1;32m    380\u001b[0m         \u001b[0;32mreturn\u001b[0m \u001b[0mspatial_slices\u001b[0m \u001b[0;32mif\u001b[0m \u001b[0mreturn_spatial\u001b[0m \u001b[0;32melse\u001b[0m \u001b[0mslicer\u001b[0m\u001b[0;34m\u001b[0m\u001b[0;34m\u001b[0m\u001b[0m\n",
      "\u001b[0;31mIndexError\u001b[0m: Scalar indices disallowed in spatial dimensions; Use `[x]` or `x:x+1`."
     ]
    }
   ],
   "source": [
    "'''\n",
    "Seleccionamos el corte de los datos de las mascaras\n",
    "'''\n",
    "cor_sel = 50\n",
    "\n",
    "cor_wm_csf = mask_wm_csf.slicer[..., cor_sel]\n",
    "cor_wm = mask_wm.slicer[..., cor_sel:cor_sel+1]\n",
    "\n",
    "print(cor_wm_csf.shape)\n",
    "\n",
    "# Corte mascara_wm_csf\n",
    "datos_cor_wm_csf = cor_wm_csf.get_fdata()\n",
    "\n",
    "# Rotamos para mejor visualización\n",
    "angle = 90 # en grados\n",
    "corte_wm_csf_r = ndimage.rotate(datos_cor_wm_csf, angle, reshape=True)\n",
    "\n",
    "# Corte mascara_wm\n",
    "datos_cor_wm = cor_wm.get_fdata()\n",
    "\n",
    "# Rotamos para mejor visualización\n",
    "angle = 90 # en grados\n",
    "corte_wm_r = ndimage.rotate(datos_cor_wm, angle, reshape=True)\n",
    "\n",
    "'''\n",
    "Mostramos ambas imagenes\n",
    "'''\n",
    "\n",
    "fig = plt.figure(figsize=(12, 12))\n",
    "plt.subplot(121)\n",
    "plt.imshow(datos_cor_wm_csf)\n",
    "#plt.imshow(corte_wm_csf_r)\n",
    "plt.title('Mascara Materia blanca + Liquido Cefalorraquideo')\n",
    "plt.axis('off')\n",
    "plt.subplot(122)\n",
    "plt.imshow(datos_cor_wm)\n",
    "#plt.imshow(corte_wm_r)\n",
    "plt.title('Mascara Materia Blanca')\n",
    "plt.axis('off')\n",
    "fig.patch.set_facecolor('xkcd:white')\n",
    "plt.show()\n"
   ]
  },
  {
   "cell_type": "code",
   "execution_count": null,
   "id": "1cff2962",
   "metadata": {},
   "outputs": [],
   "source": [
    "## Guardamos los cortes seleccionados"
   ]
  },
  {
   "cell_type": "code",
   "execution_count": 82,
   "id": "fdc81af7",
   "metadata": {},
   "outputs": [
    {
     "name": "stdout",
     "output_type": "stream",
     "text": [
      "corte_75_mask_wm_csf.nii\n"
     ]
    }
   ],
   "source": [
    "name = 'corte_'+str(cor_vol)+'_mask_wm_csf.nii'\n",
    "print(name)\n"
   ]
  },
  {
   "cell_type": "code",
   "execution_count": 83,
   "id": "3415354c",
   "metadata": {},
   "outputs": [
    {
     "ename": "AttributeError",
     "evalue": "'numpy.ndarray' object has no attribute 'to_filename'",
     "output_type": "error",
     "traceback": [
      "\u001b[0;31m---------------------------------------------------------------------------\u001b[0m",
      "\u001b[0;31mAttributeError\u001b[0m                            Traceback (most recent call last)",
      "\u001b[0;32m/tmp/ipykernel_1229538/2776604283.py\u001b[0m in \u001b[0;36m<module>\u001b[0;34m\u001b[0m\n\u001b[1;32m      2\u001b[0m \u001b[0;34m\u001b[0m\u001b[0m\n\u001b[1;32m      3\u001b[0m \u001b[0mname\u001b[0m \u001b[0;34m=\u001b[0m \u001b[0;34m'corte_'\u001b[0m\u001b[0;34m+\u001b[0m\u001b[0mstr\u001b[0m\u001b[0;34m(\u001b[0m\u001b[0mcor_vol\u001b[0m\u001b[0;34m)\u001b[0m\u001b[0;34m+\u001b[0m\u001b[0;34m'_mask_wm_csf.nii'\u001b[0m\u001b[0;34m\u001b[0m\u001b[0;34m\u001b[0m\u001b[0m\n\u001b[0;32m----> 4\u001b[0;31m \u001b[0mnib\u001b[0m\u001b[0;34m.\u001b[0m\u001b[0msave\u001b[0m\u001b[0;34m(\u001b[0m\u001b[0mcorte_wm_csf\u001b[0m\u001b[0;34m,\u001b[0m \u001b[0mopj\u001b[0m\u001b[0;34m(\u001b[0m\u001b[0moutput_dir\u001b[0m\u001b[0;34m,\u001b[0m \u001b[0mname\u001b[0m\u001b[0;34m)\u001b[0m\u001b[0;34m)\u001b[0m\u001b[0;34m\u001b[0m\u001b[0;34m\u001b[0m\u001b[0m\n\u001b[0m",
      "\u001b[0;32m~/.local/lib/python3.9/site-packages/nibabel/loadsave.py\u001b[0m in \u001b[0;36msave\u001b[0;34m(img, filename)\u001b[0m\n\u001b[1;32m     97\u001b[0m     \u001b[0;31m# Save the type as expected\u001b[0m\u001b[0;34m\u001b[0m\u001b[0;34m\u001b[0m\u001b[0m\n\u001b[1;32m     98\u001b[0m     \u001b[0;32mtry\u001b[0m\u001b[0;34m:\u001b[0m\u001b[0;34m\u001b[0m\u001b[0;34m\u001b[0m\u001b[0m\n\u001b[0;32m---> 99\u001b[0;31m         \u001b[0mimg\u001b[0m\u001b[0;34m.\u001b[0m\u001b[0mto_filename\u001b[0m\u001b[0;34m(\u001b[0m\u001b[0mfilename\u001b[0m\u001b[0;34m)\u001b[0m\u001b[0;34m\u001b[0m\u001b[0;34m\u001b[0m\u001b[0m\n\u001b[0m\u001b[1;32m    100\u001b[0m     \u001b[0;32mexcept\u001b[0m \u001b[0mImageFileError\u001b[0m\u001b[0;34m:\u001b[0m\u001b[0;34m\u001b[0m\u001b[0;34m\u001b[0m\u001b[0m\n\u001b[1;32m    101\u001b[0m         \u001b[0;32mpass\u001b[0m\u001b[0;34m\u001b[0m\u001b[0;34m\u001b[0m\u001b[0m\n",
      "\u001b[0;31mAttributeError\u001b[0m: 'numpy.ndarray' object has no attribute 'to_filename'"
     ]
    }
   ],
   "source": [
    "# Corte mascara_wm_csf\n",
    "\n",
    "name = 'corte_'+str(cor_vol)+'_mask_wm_csf.nii'\n",
    "nib.save(corte_wm_csf, opj(output_dir, name))"
   ]
  },
  {
   "cell_type": "markdown",
   "id": "446e0be2",
   "metadata": {},
   "source": [
    "## "
   ]
  },
  {
   "cell_type": "markdown",
   "id": "118f0fbe",
   "metadata": {},
   "source": [
    "# Tiempo de ejecución del codigo"
   ]
  },
  {
   "cell_type": "code",
   "execution_count": null,
   "id": "343f25c6",
   "metadata": {},
   "outputs": [],
   "source": [
    "'''\n",
    "Seleccionamos el corte de los datos de las mascaras\n",
    "'''\n",
    "\n",
    "corte_wm_csf = datos_mask_wm_csf[ : , cor_vol ,:]\n",
    "\n",
    "angle = 90 # en grados\n",
    "new_data_c = ndimage.rotate(corte_coro, angle, reshape=True)\n",
    "fig = plt.figure(figsize=(6, 6))\n",
    "plt.imshow(new_data_c)\n",
    "plt.axis('off')\n",
    "fig.patch.set_facecolor('xkcd:white') "
   ]
  },
  {
   "cell_type": "code",
   "execution_count": 24,
   "id": "85261c76",
   "metadata": {},
   "outputs": [
    {
     "name": "stdout",
     "output_type": "stream",
     "text": [
      "-----------------------------\n",
      " tiempo de ejecución\n",
      " 7.5974836349487305 seg\n",
      " -----------------------------\n",
      "\n",
      "---------------------------------------\n",
      " tiempo de ejecución del sistema y CPU\n",
      " 1.1842938109999999 seg\n",
      " ---------------------------------------\n",
      "\n"
     ]
    }
   ],
   "source": [
    "fin = time.time()\n",
    "end = time.process_time()\n",
    "tiempo = fin - inicio\n",
    "tiempo2 = end - start\n",
    "\n",
    "print('-----------------------------\\n', \n",
    "      'tiempo de ejecución\\n', tiempo, 'seg\\n',\n",
    "     '-----------------------------\\n')\n",
    "print('---------------------------------------\\n', \n",
    "      'tiempo de ejecución del sistema y CPU\\n', tiempo2, 'seg\\n',\n",
    "     '---------------------------------------\\n')\n",
    "\n",
    "\n"
   ]
  },
  {
   "cell_type": "markdown",
   "id": "0eea6ff1",
   "metadata": {},
   "source": [
    "# Fin"
   ]
  }
 ],
 "metadata": {
  "kernelspec": {
   "display_name": "Python 3 (ipykernel)",
   "language": "python",
   "name": "python3"
  },
  "language_info": {
   "codemirror_mode": {
    "name": "ipython",
    "version": 3
   },
   "file_extension": ".py",
   "mimetype": "text/x-python",
   "name": "python",
   "nbconvert_exporter": "python",
   "pygments_lexer": "ipython3",
   "version": "3.9.7"
  },
  "nbTranslate": {
   "displayLangs": [
    "*"
   ],
   "hotkey": "alt-t",
   "langInMainMenu": true,
   "sourceLang": "en",
   "targetLang": "fr",
   "useGoogleTranslate": true
  },
  "toc": {
   "base_numbering": 1,
   "nav_menu": {},
   "number_sections": true,
   "sideBar": true,
   "skip_h1_title": false,
   "title_cell": "Table of Contents",
   "title_sidebar": "Contents",
   "toc_cell": false,
   "toc_position": {
    "height": "calc(100% - 180px)",
    "left": "10px",
    "top": "150px",
    "width": "349.078px"
   },
   "toc_section_display": true,
   "toc_window_display": true
  },
  "varInspector": {
   "cols": {
    "lenName": 16,
    "lenType": 16,
    "lenVar": 40
   },
   "kernels_config": {
    "python": {
     "delete_cmd_postfix": "",
     "delete_cmd_prefix": "del ",
     "library": "var_list.py",
     "varRefreshCmd": "print(var_dic_list())"
    },
    "r": {
     "delete_cmd_postfix": ") ",
     "delete_cmd_prefix": "rm(",
     "library": "var_list.r",
     "varRefreshCmd": "cat(var_dic_list()) "
    }
   },
   "types_to_exclude": [
    "module",
    "function",
    "builtin_function_or_method",
    "instance",
    "_Feature"
   ],
   "window_display": false
  }
 },
 "nbformat": 4,
 "nbformat_minor": 5
}
